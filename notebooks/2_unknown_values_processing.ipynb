{
 "cells": [
  {
   "cell_type": "markdown",
   "metadata": {},
   "source": [
    "<h3 >Импорты</h3>\n",
    "\n",
    "(\"from sklearn.experimental import enable_iterative_imputer\" используется для доступа к IterativeImputer)"
   ]
  },
  {
   "cell_type": "code",
   "execution_count": 1,
   "metadata": {},
   "outputs": [],
   "source": [
    "import warnings\n",
    "import pickle\n",
    "\n",
    "import pandas as pd\n",
    "from sklearn.impute import KNNImputer\n",
    "from sklearn.preprocessing import StandardScaler, OrdinalEncoder\n",
    "from sklearn.model_selection import train_test_split\n",
    "from sklearn.experimental import enable_iterative_imputer\n",
    "from sklearn.impute import IterativeImputer\n",
    "from sklearn.linear_model import BayesianRidge"
   ]
  },
  {
   "cell_type": "markdown",
   "metadata": {},
   "source": [
    "Отключениие warnings"
   ]
  },
  {
   "cell_type": "code",
   "execution_count": 2,
   "metadata": {},
   "outputs": [],
   "source": [
    "warnings.filterwarnings('ignore')"
   ]
  },
  {
   "cell_type": "markdown",
   "metadata": {},
   "source": [
    "<h3 >Чтение датасета</h3>"
   ]
  },
  {
   "cell_type": "markdown",
   "metadata": {},
   "source": [
    "Без колонок отброшенных на предыдущем этапе."
   ]
  },
  {
   "cell_type": "code",
   "execution_count": 3,
   "metadata": {},
   "outputs": [],
   "source": [
    "df=pd.read_csv('../data/raw/raw_data.csv').drop(columns=['duration', 'contact', 'month', 'day_of_week'])"
   ]
  },
  {
   "cell_type": "markdown",
   "metadata": {},
   "source": [
    "Разобью и сохраню сырой датасет дез обработки пропусков."
   ]
  },
  {
   "cell_type": "code",
   "execution_count": 4,
   "metadata": {},
   "outputs": [],
   "source": [
    "df_train, df_test = train_test_split(df,test_size=0.3,shuffle=False)\n",
    "df_train.index=range(len(df_train))\n",
    "df_test.index=range(len(df_test))\n",
    "\n",
    "df_train.to_csv('../data/train_test/train.csv',index=False)\n",
    "df_test.to_csv('../data/train_test/test.csv',index=False)"
   ]
  },
  {
   "cell_type": "markdown",
   "metadata": {},
   "source": [
    "Определю поднаборы признаков:"
   ]
  },
  {
   "cell_type": "code",
   "execution_count": 5,
   "metadata": {},
   "outputs": [],
   "source": [
    "numeric_subset=list(df.select_dtypes(['float64','int64']).columns)\n",
    "categoric_subset=list(df.select_dtypes('object').columns)"
   ]
  },
  {
   "cell_type": "markdown",
   "metadata": {},
   "source": [
    "Заменю pdays=999 на -1."
   ]
  },
  {
   "cell_type": "code",
   "execution_count": 6,
   "metadata": {},
   "outputs": [],
   "source": [
    "df['pdays']=df['pdays'].replace([999],-1)"
   ]
  },
  {
   "cell_type": "markdown",
   "metadata": {},
   "source": [
    "Сделаю датасает с заполненными unknown методом KNN. Признаки со значениями unknown, они есть только в категориальных признаках:"
   ]
  },
  {
   "cell_type": "code",
   "execution_count": 7,
   "metadata": {},
   "outputs": [
    {
     "data": {
      "text/plain": [
       "['job', 'marital', 'education', 'default', 'housing', 'loan']"
      ]
     },
     "execution_count": 7,
     "metadata": {},
     "output_type": "execute_result"
    }
   ],
   "source": [
    "unknown_colomns=[]\n",
    "for col in categoric_subset:\n",
    "    if 'unknown' in pd.unique(df[col]):\n",
    "        unknown_colomns.append(col)\n",
    "unknown_colomns"
   ]
  },
  {
   "cell_type": "markdown",
   "metadata": {},
   "source": [
    "Заменю unknown на None. "
   ]
  },
  {
   "cell_type": "code",
   "execution_count": 8,
   "metadata": {},
   "outputs": [],
   "source": [
    "for col in unknown_colomns:\n",
    "    df[col]=df[col].replace(['unknown'],None)"
   ]
  },
  {
   "cell_type": "markdown",
   "metadata": {},
   "source": [
    "Проверю корректность выполнения замены:"
   ]
  },
  {
   "cell_type": "code",
   "execution_count": 9,
   "metadata": {},
   "outputs": [
    {
     "name": "stdout",
     "output_type": "stream",
     "text": [
      "<class 'pandas.core.frame.DataFrame'>\n",
      "RangeIndex: 41188 entries, 0 to 41187\n",
      "Data columns (total 6 columns):\n",
      " #   Column     Non-Null Count  Dtype \n",
      "---  ------     --------------  ----- \n",
      " 0   job        40858 non-null  object\n",
      " 1   marital    41108 non-null  object\n",
      " 2   education  39457 non-null  object\n",
      " 3   default    32591 non-null  object\n",
      " 4   housing    40198 non-null  object\n",
      " 5   loan       40198 non-null  object\n",
      "dtypes: object(6)\n",
      "memory usage: 1.9+ MB\n"
     ]
    }
   ],
   "source": [
    "df[unknown_colomns].info()"
   ]
  },
  {
   "cell_type": "markdown",
   "metadata": {},
   "source": [
    "Разобью датасет на тренировочные и тестовые данные без перемешивания, так данные по сути основаны на времени."
   ]
  },
  {
   "cell_type": "code",
   "execution_count": 27,
   "metadata": {},
   "outputs": [],
   "source": [
    "df_train, df_test = train_test_split(df,test_size=0.3,shuffle=False)\n",
    "df_train.index=range(len(df_train))\n",
    "df_test.index=range(len(df_test))"
   ]
  },
  {
   "cell_type": "markdown",
   "metadata": {},
   "source": [
    "Для тестовой выборки, закодирую категориальные признаки и отмасштабирую численные."
   ]
  },
  {
   "cell_type": "code",
   "execution_count": 28,
   "metadata": {},
   "outputs": [],
   "source": [
    "original_encoder=OrdinalEncoder(handle_unknown='use_encoded_value',unknown_value=-1)\n",
    "encoded_df_train_cat=pd.DataFrame(original_encoder.fit_transform(df_train[categoric_subset]),columns=categoric_subset)\n",
    "\n",
    "num_scaler=StandardScaler()\n",
    "scaled_df_train_num=pd.DataFrame(num_scaler.fit_transform(df_train[numeric_subset]))\n",
    "\n",
    "with open('../app/encoder.pkl','wb') as f:\n",
    "    pickle.dump(original_encoder,f)\n",
    "\n",
    "with open('../app/scaler.pkl','wb') as f:\n",
    "    pickle.dump(num_scaler,f)"
   ]
  },
  {
   "cell_type": "markdown",
   "metadata": {},
   "source": [
    "Заменю закодированные None обратно на None, для последующего заполнения. OriginalEncoder кодирут значение None максимальным для каждого признака."
   ]
  },
  {
   "cell_type": "code",
   "execution_count": 12,
   "metadata": {},
   "outputs": [],
   "source": [
    "for col in unknown_colomns:\n",
    "    encoded_df_train_cat[col]=encoded_df_train_cat[col].replace([max(encoded_df_train_cat[col])],None)"
   ]
  },
  {
   "cell_type": "markdown",
   "metadata": {},
   "source": [
    "Объеденю категориальные закодированные данные с отмасштабированными числовыми для заполнения пропусков KNN."
   ]
  },
  {
   "cell_type": "code",
   "execution_count": 13,
   "metadata": {},
   "outputs": [],
   "source": [
    "df_train_encode=pd.concat([scaled_df_train_num,encoded_df_train_cat],axis=1,ignore_index=True)\n",
    "df_train_encode=pd.DataFrame(df_train_encode)\n",
    "df_train_encode.columns=numeric_subset+categoric_subset"
   ]
  },
  {
   "cell_type": "markdown",
   "metadata": {},
   "source": [
    "Заполню пропуски с помощью KNN:"
   ]
  },
  {
   "cell_type": "code",
   "execution_count": 14,
   "metadata": {},
   "outputs": [],
   "source": [
    "knn_imputer=KNNImputer()\n",
    "df_train_encode_knn_imputed=pd.DataFrame(knn_imputer.fit_transform(df_train_encode),columns=df_train_encode.columns)\n",
    "\n",
    "with open('../app/knn_imputer.pkl','wb') as f:\n",
    "    pickle.dump(knn_imputer,f)"
   ]
  },
  {
   "cell_type": "markdown",
   "metadata": {},
   "source": [
    "Снова выберу категориальный признаки и раскодирую их:"
   ]
  },
  {
   "cell_type": "code",
   "execution_count": 55,
   "metadata": {},
   "outputs": [],
   "source": [
    "df_train_cat_knn_imputed=pd.DataFrame(original_encoder.inverse_transform(df_train_encode_knn_imputed[categoric_subset]))"
   ]
  },
  {
   "cell_type": "markdown",
   "metadata": {},
   "source": [
    "Соберу снова все в один датасет, но с заполненными пропусками по методу KNN."
   ]
  },
  {
   "cell_type": "code",
   "execution_count": 42,
   "metadata": {},
   "outputs": [
    {
     "name": "stdout",
     "output_type": "stream",
     "text": [
      "Checking inputer work:\n",
      "<class 'pandas.core.frame.DataFrame'>\n",
      "RangeIndex: 28831 entries, 0 to 28830\n",
      "Data columns (total 6 columns):\n",
      " #   Column     Non-Null Count  Dtype \n",
      "---  ------     --------------  ----- \n",
      " 0   job        28831 non-null  object\n",
      " 1   marital    28831 non-null  object\n",
      " 2   education  28831 non-null  object\n",
      " 3   default    28831 non-null  object\n",
      " 4   housing    28831 non-null  object\n",
      " 5   loan       28831 non-null  object\n",
      "dtypes: object(6)\n",
      "memory usage: 1.3+ MB\n"
     ]
    }
   ],
   "source": [
    "df_train_knn_imputed=pd.concat([df_train[numeric_subset],df_train_cat_knn_imputed],axis=1)\n",
    "df_train_knn_imputed=pd.DataFrame(df_train_knn_imputed)\n",
    "df_train_knn_imputed.columns=numeric_subset+categoric_subset\n",
    "\n",
    "print('Checking inputer work:')\n",
    "df_train_knn_imputed[unknown_colomns].info()"
   ]
  },
  {
   "cell_type": "markdown",
   "metadata": {},
   "source": [
    "Как видно, пропусков, которые были вставлены вместо значения unknown, больше нет. Пребразую соответственно и тестовый набор."
   ]
  },
  {
   "cell_type": "code",
   "execution_count": 43,
   "metadata": {},
   "outputs": [],
   "source": [
    "encoded_df_test_cat=pd.DataFrame(original_encoder.transform(df_test[categoric_subset]),columns=categoric_subset)\n",
    "scaled_df_test_num=pd.DataFrame(num_scaler.transform(df_test[numeric_subset]))\n",
    "\n",
    "for col in unknown_colomns:\n",
    "    encoded_df_test_cat[col]=encoded_df_test_cat[col].replace([max(encoded_df_test_cat[col])],None)\n",
    "\n",
    "df_test_encode=pd.concat([scaled_df_test_num,encoded_df_test_cat],axis=1,ignore_index=True)\n",
    "df_test_encode=pd.DataFrame(df_test_encode)\n",
    "df_test_encode.columns=numeric_subset+categoric_subset\n",
    "\n",
    "df_test_encode_knn_imputed=pd.DataFrame(knn_imputer.transform(df_test_encode),columns=df_test_encode.columns)\n",
    "df_test_cat_knn_imputed=pd.DataFrame(original_encoder.inverse_transform(df_test_encode_knn_imputed[categoric_subset]))\n",
    "\n",
    "df_test_knn_imputed=pd.concat([df_test[numeric_subset],df_test_cat_knn_imputed],axis=1)\n",
    "df_test_knn_imputed=pd.DataFrame(df_test_knn_imputed)\n",
    "df_test_knn_imputed.columns=numeric_subset+categoric_subset"
   ]
  },
  {
   "cell_type": "markdown",
   "metadata": {},
   "source": [
    "Созраню датасеты с обработанными пропусками по методу KNN."
   ]
  },
  {
   "cell_type": "code",
   "execution_count": 44,
   "metadata": {},
   "outputs": [],
   "source": [
    "df_train_knn_imputed.to_csv('../data/train_test/train_knn_imputer.csv',index=False)\n",
    "df_test_knn_imputed.to_csv('../data/train_test/test_knn_imputer.csv',index=False)"
   ]
  },
  {
   "cell_type": "markdown",
   "metadata": {},
   "source": [
    "Реализую аналогично для IterativeImputer(estimator=BayesianRidge) метода обработки пропусков."
   ]
  },
  {
   "cell_type": "markdown",
   "metadata": {},
   "source": [
    "Для тренировочного набора:"
   ]
  },
  {
   "cell_type": "code",
   "execution_count": 45,
   "metadata": {},
   "outputs": [],
   "source": [
    "original_encoder=OrdinalEncoder(handle_unknown='use_encoded_value',unknown_value=-1)\n",
    "num_scaler=StandardScaler()\n",
    "iter_imputer=IterativeImputer(estimator=BayesianRidge())\n",
    "\n",
    "\n",
    "encoded_df_train_cat=pd.DataFrame(original_encoder.fit_transform(df_train[categoric_subset]),columns=categoric_subset)\n",
    "scaled_df_train_num=pd.DataFrame(num_scaler.fit_transform(df_train[numeric_subset]))\n",
    "\n",
    "for col in unknown_colomns:\n",
    "    encoded_df_train_cat[col]=encoded_df_train_cat[col].replace([max(encoded_df_train_cat[col])],None)\n",
    "\n",
    "df_train_encode=pd.concat([scaled_df_train_num,encoded_df_train_cat],axis=1,ignore_index=True)\n",
    "df_train_encode=pd.DataFrame(df_train_encode)\n",
    "df_train_encode.columns=numeric_subset+categoric_subset\n",
    "\n",
    "df_train_encode_iter_imputed=pd.DataFrame(iter_imputer.fit_transform(df_train_encode),columns=df_train_encode.columns)\n",
    "df_train_cat_iter_imputed=pd.DataFrame(original_encoder.inverse_transform(df_train_encode_iter_imputed[categoric_subset]))\n",
    "\n",
    "df_train_iter_imputed=pd.concat([df_train[numeric_subset],df_train_cat_iter_imputed],axis=1)\n",
    "df_train_iter_imputed=pd.DataFrame(df_train_iter_imputed)\n",
    "df_train_iter_imputed.columns=numeric_subset+categoric_subset"
   ]
  },
  {
   "cell_type": "markdown",
   "metadata": {},
   "source": [
    "Для тестового набора:"
   ]
  },
  {
   "cell_type": "code",
   "execution_count": 46,
   "metadata": {},
   "outputs": [],
   "source": [
    "encoded_df_test_cat=pd.DataFrame(original_encoder.transform(df_test[categoric_subset]),columns=categoric_subset)\n",
    "scaled_df_test_num=pd.DataFrame(num_scaler.transform(df_test[numeric_subset]))\n",
    "\n",
    "for col in unknown_colomns:\n",
    "    encoded_df_test_cat[col]=encoded_df_test_cat[col].replace([max(encoded_df_test_cat[col])],None)\n",
    "\n",
    "df_test_encode=pd.concat([scaled_df_test_num,encoded_df_test_cat],axis=1,ignore_index=True)\n",
    "df_test_encode=pd.DataFrame(df_test_encode)\n",
    "df_test_encode.columns=numeric_subset+categoric_subset\n",
    "\n",
    "df_test_encode_iter_imputed=pd.DataFrame(iter_imputer.transform(df_test_encode),columns=df_test_encode.columns)\n",
    "df_test_cat_iter_imputed=pd.DataFrame(original_encoder.inverse_transform(df_test_encode_iter_imputed[categoric_subset]))\n",
    "\n",
    "df_test_iter_imputed=pd.concat([df_test[numeric_subset],df_test_cat_iter_imputed],axis=1)\n",
    "df_test_iter_imputed=pd.DataFrame(df_test_iter_imputed)\n",
    "df_test_iter_imputed.columns=numeric_subset+categoric_subset"
   ]
  },
  {
   "cell_type": "markdown",
   "metadata": {},
   "source": [
    "Проверка на корректность обработки:"
   ]
  },
  {
   "cell_type": "code",
   "execution_count": 47,
   "metadata": {},
   "outputs": [
    {
     "name": "stdout",
     "output_type": "stream",
     "text": [
      "<class 'pandas.core.frame.DataFrame'>\n",
      "RangeIndex: 28831 entries, 0 to 28830\n",
      "Data columns (total 17 columns):\n",
      " #   Column          Non-Null Count  Dtype  \n",
      "---  ------          --------------  -----  \n",
      " 0   age             28831 non-null  int64  \n",
      " 1   campaign        28831 non-null  int64  \n",
      " 2   pdays           28831 non-null  int64  \n",
      " 3   previous        28831 non-null  int64  \n",
      " 4   emp.var.rate    28831 non-null  float64\n",
      " 5   cons.price.idx  28831 non-null  float64\n",
      " 6   cons.conf.idx   28831 non-null  float64\n",
      " 7   euribor3m       28831 non-null  float64\n",
      " 8   nr.employed     28831 non-null  float64\n",
      " 9   job             28831 non-null  object \n",
      " 10  marital         28831 non-null  object \n",
      " 11  education       28831 non-null  object \n",
      " 12  default         28831 non-null  object \n",
      " 13  housing         28831 non-null  object \n",
      " 14  loan            28831 non-null  object \n",
      " 15  poutcome        28831 non-null  object \n",
      " 16  subscribed      28831 non-null  object \n",
      "dtypes: float64(5), int64(4), object(8)\n",
      "memory usage: 3.7+ MB\n"
     ]
    }
   ],
   "source": [
    "df_train_iter_imputed.info()"
   ]
  },
  {
   "cell_type": "code",
   "execution_count": 48,
   "metadata": {},
   "outputs": [
    {
     "name": "stdout",
     "output_type": "stream",
     "text": [
      "<class 'pandas.core.frame.DataFrame'>\n",
      "RangeIndex: 12357 entries, 0 to 12356\n",
      "Data columns (total 17 columns):\n",
      " #   Column          Non-Null Count  Dtype  \n",
      "---  ------          --------------  -----  \n",
      " 0   age             12357 non-null  int64  \n",
      " 1   campaign        12357 non-null  int64  \n",
      " 2   pdays           12357 non-null  int64  \n",
      " 3   previous        12357 non-null  int64  \n",
      " 4   emp.var.rate    12357 non-null  float64\n",
      " 5   cons.price.idx  12357 non-null  float64\n",
      " 6   cons.conf.idx   12357 non-null  float64\n",
      " 7   euribor3m       12357 non-null  float64\n",
      " 8   nr.employed     12357 non-null  float64\n",
      " 9   job             12357 non-null  object \n",
      " 10  marital         12357 non-null  object \n",
      " 11  education       12341 non-null  object \n",
      " 12  default         12357 non-null  object \n",
      " 13  housing         12357 non-null  object \n",
      " 14  loan            12357 non-null  object \n",
      " 15  poutcome        12357 non-null  object \n",
      " 16  subscribed      12357 non-null  object \n",
      "dtypes: float64(5), int64(4), object(8)\n",
      "memory usage: 1.6+ MB\n"
     ]
    }
   ],
   "source": [
    "df_test_iter_imputed.info()"
   ]
  },
  {
   "cell_type": "code",
   "execution_count": 49,
   "metadata": {},
   "outputs": [
    {
     "data": {
      "text/html": [
       "<div>\n",
       "<style scoped>\n",
       "    .dataframe tbody tr th:only-of-type {\n",
       "        vertical-align: middle;\n",
       "    }\n",
       "\n",
       "    .dataframe tbody tr th {\n",
       "        vertical-align: top;\n",
       "    }\n",
       "\n",
       "    .dataframe thead th {\n",
       "        text-align: right;\n",
       "    }\n",
       "</style>\n",
       "<table border=\"1\" class=\"dataframe\">\n",
       "  <thead>\n",
       "    <tr style=\"text-align: right;\">\n",
       "      <th></th>\n",
       "      <th>age</th>\n",
       "      <th>campaign</th>\n",
       "      <th>pdays</th>\n",
       "      <th>previous</th>\n",
       "      <th>emp.var.rate</th>\n",
       "      <th>cons.price.idx</th>\n",
       "      <th>cons.conf.idx</th>\n",
       "      <th>euribor3m</th>\n",
       "      <th>nr.employed</th>\n",
       "      <th>job</th>\n",
       "      <th>marital</th>\n",
       "      <th>education</th>\n",
       "      <th>default</th>\n",
       "      <th>housing</th>\n",
       "      <th>loan</th>\n",
       "      <th>poutcome</th>\n",
       "      <th>subscribed</th>\n",
       "    </tr>\n",
       "  </thead>\n",
       "  <tbody>\n",
       "    <tr>\n",
       "      <th>0</th>\n",
       "      <td>56</td>\n",
       "      <td>1</td>\n",
       "      <td>-1</td>\n",
       "      <td>0</td>\n",
       "      <td>1.1</td>\n",
       "      <td>93.994</td>\n",
       "      <td>-36.4</td>\n",
       "      <td>4.857</td>\n",
       "      <td>5191.0</td>\n",
       "      <td>housemaid</td>\n",
       "      <td>married</td>\n",
       "      <td>basic.4y</td>\n",
       "      <td>no</td>\n",
       "      <td>no</td>\n",
       "      <td>no</td>\n",
       "      <td>nonexistent</td>\n",
       "      <td>no</td>\n",
       "    </tr>\n",
       "    <tr>\n",
       "      <th>1</th>\n",
       "      <td>57</td>\n",
       "      <td>1</td>\n",
       "      <td>-1</td>\n",
       "      <td>0</td>\n",
       "      <td>1.1</td>\n",
       "      <td>93.994</td>\n",
       "      <td>-36.4</td>\n",
       "      <td>4.857</td>\n",
       "      <td>5191.0</td>\n",
       "      <td>services</td>\n",
       "      <td>married</td>\n",
       "      <td>high.school</td>\n",
       "      <td>no</td>\n",
       "      <td>no</td>\n",
       "      <td>no</td>\n",
       "      <td>nonexistent</td>\n",
       "      <td>no</td>\n",
       "    </tr>\n",
       "    <tr>\n",
       "      <th>2</th>\n",
       "      <td>37</td>\n",
       "      <td>1</td>\n",
       "      <td>-1</td>\n",
       "      <td>0</td>\n",
       "      <td>1.1</td>\n",
       "      <td>93.994</td>\n",
       "      <td>-36.4</td>\n",
       "      <td>4.857</td>\n",
       "      <td>5191.0</td>\n",
       "      <td>services</td>\n",
       "      <td>married</td>\n",
       "      <td>high.school</td>\n",
       "      <td>no</td>\n",
       "      <td>yes</td>\n",
       "      <td>no</td>\n",
       "      <td>nonexistent</td>\n",
       "      <td>no</td>\n",
       "    </tr>\n",
       "    <tr>\n",
       "      <th>3</th>\n",
       "      <td>40</td>\n",
       "      <td>1</td>\n",
       "      <td>-1</td>\n",
       "      <td>0</td>\n",
       "      <td>1.1</td>\n",
       "      <td>93.994</td>\n",
       "      <td>-36.4</td>\n",
       "      <td>4.857</td>\n",
       "      <td>5191.0</td>\n",
       "      <td>admin.</td>\n",
       "      <td>married</td>\n",
       "      <td>basic.6y</td>\n",
       "      <td>no</td>\n",
       "      <td>no</td>\n",
       "      <td>no</td>\n",
       "      <td>nonexistent</td>\n",
       "      <td>no</td>\n",
       "    </tr>\n",
       "    <tr>\n",
       "      <th>4</th>\n",
       "      <td>56</td>\n",
       "      <td>1</td>\n",
       "      <td>-1</td>\n",
       "      <td>0</td>\n",
       "      <td>1.1</td>\n",
       "      <td>93.994</td>\n",
       "      <td>-36.4</td>\n",
       "      <td>4.857</td>\n",
       "      <td>5191.0</td>\n",
       "      <td>services</td>\n",
       "      <td>married</td>\n",
       "      <td>high.school</td>\n",
       "      <td>no</td>\n",
       "      <td>no</td>\n",
       "      <td>yes</td>\n",
       "      <td>nonexistent</td>\n",
       "      <td>no</td>\n",
       "    </tr>\n",
       "  </tbody>\n",
       "</table>\n",
       "</div>"
      ],
      "text/plain": [
       "   age  campaign  pdays  previous  emp.var.rate  cons.price.idx  \\\n",
       "0   56         1     -1         0           1.1          93.994   \n",
       "1   57         1     -1         0           1.1          93.994   \n",
       "2   37         1     -1         0           1.1          93.994   \n",
       "3   40         1     -1         0           1.1          93.994   \n",
       "4   56         1     -1         0           1.1          93.994   \n",
       "\n",
       "   cons.conf.idx  euribor3m  nr.employed        job  marital    education  \\\n",
       "0          -36.4      4.857       5191.0  housemaid  married     basic.4y   \n",
       "1          -36.4      4.857       5191.0   services  married  high.school   \n",
       "2          -36.4      4.857       5191.0   services  married  high.school   \n",
       "3          -36.4      4.857       5191.0     admin.  married     basic.6y   \n",
       "4          -36.4      4.857       5191.0   services  married  high.school   \n",
       "\n",
       "  default housing loan     poutcome subscribed  \n",
       "0      no      no   no  nonexistent         no  \n",
       "1      no      no   no  nonexistent         no  \n",
       "2      no     yes   no  nonexistent         no  \n",
       "3      no      no   no  nonexistent         no  \n",
       "4      no      no  yes  nonexistent         no  "
      ]
     },
     "execution_count": 49,
     "metadata": {},
     "output_type": "execute_result"
    }
   ],
   "source": [
    "df_train_iter_imputed.head()"
   ]
  },
  {
   "cell_type": "code",
   "execution_count": 50,
   "metadata": {},
   "outputs": [
    {
     "data": {
      "text/html": [
       "<div>\n",
       "<style scoped>\n",
       "    .dataframe tbody tr th:only-of-type {\n",
       "        vertical-align: middle;\n",
       "    }\n",
       "\n",
       "    .dataframe tbody tr th {\n",
       "        vertical-align: top;\n",
       "    }\n",
       "\n",
       "    .dataframe thead th {\n",
       "        text-align: right;\n",
       "    }\n",
       "</style>\n",
       "<table border=\"1\" class=\"dataframe\">\n",
       "  <thead>\n",
       "    <tr style=\"text-align: right;\">\n",
       "      <th></th>\n",
       "      <th>age</th>\n",
       "      <th>campaign</th>\n",
       "      <th>pdays</th>\n",
       "      <th>previous</th>\n",
       "      <th>emp.var.rate</th>\n",
       "      <th>cons.price.idx</th>\n",
       "      <th>cons.conf.idx</th>\n",
       "      <th>euribor3m</th>\n",
       "      <th>nr.employed</th>\n",
       "      <th>job</th>\n",
       "      <th>marital</th>\n",
       "      <th>education</th>\n",
       "      <th>default</th>\n",
       "      <th>housing</th>\n",
       "      <th>loan</th>\n",
       "      <th>poutcome</th>\n",
       "      <th>subscribed</th>\n",
       "    </tr>\n",
       "  </thead>\n",
       "  <tbody>\n",
       "    <tr>\n",
       "      <th>0</th>\n",
       "      <td>56</td>\n",
       "      <td>2</td>\n",
       "      <td>-1</td>\n",
       "      <td>0</td>\n",
       "      <td>-1.8</td>\n",
       "      <td>93.075</td>\n",
       "      <td>-47.1</td>\n",
       "      <td>1.41</td>\n",
       "      <td>5099.1</td>\n",
       "      <td>admin.</td>\n",
       "      <td>married</td>\n",
       "      <td>basic.9y</td>\n",
       "      <td>no</td>\n",
       "      <td>yes</td>\n",
       "      <td>no</td>\n",
       "      <td>nonexistent</td>\n",
       "      <td>yes</td>\n",
       "    </tr>\n",
       "    <tr>\n",
       "      <th>1</th>\n",
       "      <td>47</td>\n",
       "      <td>1</td>\n",
       "      <td>-1</td>\n",
       "      <td>0</td>\n",
       "      <td>-1.8</td>\n",
       "      <td>93.075</td>\n",
       "      <td>-47.1</td>\n",
       "      <td>1.41</td>\n",
       "      <td>5099.1</td>\n",
       "      <td>blue-collar</td>\n",
       "      <td>married</td>\n",
       "      <td>basic.9y</td>\n",
       "      <td>no</td>\n",
       "      <td>yes</td>\n",
       "      <td>no</td>\n",
       "      <td>nonexistent</td>\n",
       "      <td>no</td>\n",
       "    </tr>\n",
       "    <tr>\n",
       "      <th>2</th>\n",
       "      <td>44</td>\n",
       "      <td>2</td>\n",
       "      <td>-1</td>\n",
       "      <td>1</td>\n",
       "      <td>-1.8</td>\n",
       "      <td>93.075</td>\n",
       "      <td>-47.1</td>\n",
       "      <td>1.41</td>\n",
       "      <td>5099.1</td>\n",
       "      <td>admin.</td>\n",
       "      <td>single</td>\n",
       "      <td>high.school</td>\n",
       "      <td>no</td>\n",
       "      <td>yes</td>\n",
       "      <td>no</td>\n",
       "      <td>failure</td>\n",
       "      <td>no</td>\n",
       "    </tr>\n",
       "    <tr>\n",
       "      <th>3</th>\n",
       "      <td>55</td>\n",
       "      <td>3</td>\n",
       "      <td>-1</td>\n",
       "      <td>0</td>\n",
       "      <td>-1.8</td>\n",
       "      <td>93.075</td>\n",
       "      <td>-47.1</td>\n",
       "      <td>1.41</td>\n",
       "      <td>5099.1</td>\n",
       "      <td>admin.</td>\n",
       "      <td>married</td>\n",
       "      <td>university.degree</td>\n",
       "      <td>no</td>\n",
       "      <td>yes</td>\n",
       "      <td>no</td>\n",
       "      <td>nonexistent</td>\n",
       "      <td>no</td>\n",
       "    </tr>\n",
       "    <tr>\n",
       "      <th>4</th>\n",
       "      <td>36</td>\n",
       "      <td>2</td>\n",
       "      <td>-1</td>\n",
       "      <td>0</td>\n",
       "      <td>-1.8</td>\n",
       "      <td>93.075</td>\n",
       "      <td>-47.1</td>\n",
       "      <td>1.41</td>\n",
       "      <td>5099.1</td>\n",
       "      <td>admin.</td>\n",
       "      <td>single</td>\n",
       "      <td>university.degree</td>\n",
       "      <td>no</td>\n",
       "      <td>yes</td>\n",
       "      <td>no</td>\n",
       "      <td>nonexistent</td>\n",
       "      <td>no</td>\n",
       "    </tr>\n",
       "  </tbody>\n",
       "</table>\n",
       "</div>"
      ],
      "text/plain": [
       "   age  campaign  pdays  previous  emp.var.rate  cons.price.idx  \\\n",
       "0   56         2     -1         0          -1.8          93.075   \n",
       "1   47         1     -1         0          -1.8          93.075   \n",
       "2   44         2     -1         1          -1.8          93.075   \n",
       "3   55         3     -1         0          -1.8          93.075   \n",
       "4   36         2     -1         0          -1.8          93.075   \n",
       "\n",
       "   cons.conf.idx  euribor3m  nr.employed          job  marital  \\\n",
       "0          -47.1       1.41       5099.1       admin.  married   \n",
       "1          -47.1       1.41       5099.1  blue-collar  married   \n",
       "2          -47.1       1.41       5099.1       admin.   single   \n",
       "3          -47.1       1.41       5099.1       admin.  married   \n",
       "4          -47.1       1.41       5099.1       admin.   single   \n",
       "\n",
       "           education default housing loan     poutcome subscribed  \n",
       "0           basic.9y      no     yes   no  nonexistent        yes  \n",
       "1           basic.9y      no     yes   no  nonexistent         no  \n",
       "2        high.school      no     yes   no      failure         no  \n",
       "3  university.degree      no     yes   no  nonexistent         no  \n",
       "4  university.degree      no     yes   no  nonexistent         no  "
      ]
     },
     "execution_count": 50,
     "metadata": {},
     "output_type": "execute_result"
    }
   ],
   "source": [
    "df_test_iter_imputed.head()"
   ]
  },
  {
   "cell_type": "markdown",
   "metadata": {},
   "source": [
    "Всё хорошо. Сохранение тренировочных и тестовых данных с обработанными пропусками по методу IterativeImputer(estimator=BayesianRidge):"
   ]
  },
  {
   "cell_type": "code",
   "execution_count": 52,
   "metadata": {},
   "outputs": [],
   "source": [
    "df_train_iter_imputed.to_csv('../data/train_test/train_iter_imputer.csv',index=False)\n",
    "df_test_iter_imputed.to_csv('../data/train_test/test_iter_imputer.csv',index=False)"
   ]
  },
  {
   "cell_type": "markdown",
   "metadata": {},
   "source": [
    "<h3 >Выводы</h3>\n",
    "\n",
    "Были составлены три датасета - без обработки пропусков, с KNN обработкой и с Iterative обработкой пропусков, далее они были разбиты на тренеровочные и тестовые датасеты без перемешивания, так как последовательность данных обусловлена временем, после чего, полученные датасеты были сохранены в в data/train_test."
   ]
  }
 ],
 "metadata": {
  "kernelspec": {
   "display_name": "Python 3",
   "language": "python",
   "name": "python3"
  },
  "language_info": {
   "codemirror_mode": {
    "name": "ipython",
    "version": 3
   },
   "file_extension": ".py",
   "mimetype": "text/x-python",
   "name": "python",
   "nbconvert_exporter": "python",
   "pygments_lexer": "ipython3",
   "version": "3.11.5"
  }
 },
 "nbformat": 4,
 "nbformat_minor": 2
}
